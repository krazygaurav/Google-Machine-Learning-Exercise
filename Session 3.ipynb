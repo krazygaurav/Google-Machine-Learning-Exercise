{
 "cells": [
  {
   "cell_type": "markdown",
   "metadata": {},
   "source": [
    "## Session 3 - Finding the appropriate Features for Classifiers"
   ]
  },
  {
   "cell_type": "code",
   "execution_count": 1,
   "metadata": {
    "collapsed": true
   },
   "outputs": [],
   "source": [
    "import numpy as np\n",
    "import matplotlib.pyplot as plt"
   ]
  },
  {
   "cell_type": "markdown",
   "metadata": {},
   "source": [
    "#### Sample Size for both Breeds"
   ]
  },
  {
   "cell_type": "code",
   "execution_count": 2,
   "metadata": {
    "collapsed": true
   },
   "outputs": [],
   "source": [
    "greyhounds = 500\n",
    "labs = 500"
   ]
  },
  {
   "cell_type": "markdown",
   "metadata": {},
   "source": [
    "#### Usually Greys are of height 28 inches and Labradors are of 24 inches. I am taking height +-4 for both"
   ]
  },
  {
   "cell_type": "code",
   "execution_count": 5,
   "metadata": {
    "collapsed": true
   },
   "outputs": [],
   "source": [
    "grey_height = 28 + 4*np.random.randn(greyhounds)\n",
    "lab_height = 24 + 4*np.random.randn(labs)"
   ]
  },
  {
   "cell_type": "markdown",
   "metadata": {},
   "source": [
    "#### Visualizing the Heights of Both Dogs "
   ]
  },
  {
   "cell_type": "code",
   "execution_count": 11,
   "metadata": {},
   "outputs": [
    {
     "data": {
      "image/png": "[encoded data removed]",
      "text/plain": [
       "<matplotlib.figure.Figure at 0x9442cf0>"
      ]
     },
     "metadata": {},
     "output_type": "display_data"
    }
   ],
   "source": [
    "plt.hist([grey_height, lab_height], stacked=True, color=['red', 'blue'])\n",
    "plt.xlabel(\"Height of Dog\")\n",
    "plt.ylabel(\"No. of Dogs\")\n",
    "plt.show()\n",
    "\n",
    "#We know that Dog of Height 15-20 are Labradors and Dogs with Height 35 are Hounds. But how do I predict the dog \n",
    "#if his height is 25?? That means Feature Height is important but is incomplete. Which means we need more features to\n",
    "#identify the correct dog"
   ]
  },
  {
   "cell_type": "markdown",
   "metadata": {},
   "source": [
    "### Ideal features that can be helpful are..\n",
    "1. Informative\n",
    "2. Independent\n",
    "3. Simple\n",
    "\n",
    "Like Height in Inches and Height in Centimeters are Redundant Features"
   ]
  }
 ],
 "metadata": {
  "kernelspec": {
   "display_name": "Python 3",
   "language": "python",
   "name": "python3"
  },
  "language_info": {
   "codemirror_mode": {
    "name": "ipython",
    "version": 3
   },
   "file_extension": ".py",
   "mimetype": "text/x-python",
   "name": "python",
   "nbconvert_exporter": "python",
   "pygments_lexer": "ipython3",
   "version": "3.6.1"
  }
 },
 "nbformat": 4,
 "nbformat_minor": 2
}
